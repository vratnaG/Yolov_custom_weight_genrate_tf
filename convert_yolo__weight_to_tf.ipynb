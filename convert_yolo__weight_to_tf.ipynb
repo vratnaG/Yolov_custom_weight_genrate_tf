{
  "nbformat": 4,
  "nbformat_minor": 0,
  "metadata": {
    "colab": {
      "name": "convert_yolo _weight_to_tf.ipynb",
      "provenance": [],
      "collapsed_sections": []
    },
    "kernelspec": {
      "name": "python3",
      "display_name": "Python 3"
    }
  },
  "cells": [
    {
      "cell_type": "code",
      "metadata": {
        "id": "y7th9j3bNcJq",
        "colab_type": "code",
        "colab": {
          "base_uri": "https://localhost:8080/",
          "height": 224
        },
        "outputId": "c6ccae6c-8c03-4ef4-ace9-38d949e2265f"
      },
      "source": [
        "#mount the google drive\n",
        "from google.colab import drive\n",
        "drive.mount('/content/gdrive')\n",
        "!ln -s /content/gdrive/My\\ Drive/ /mydrive\n",
        "!ls /mydrive"
      ],
      "execution_count": 1,
      "outputs": [
        {
          "output_type": "stream",
          "text": [
            "Go to this URL in a browser: https://accounts.google.com/o/oauth2/auth?client_id=947318989803-6bn6qk8qdgf4n4g3pfee6491hc0brc4i.apps.googleusercontent.com&redirect_uri=urn%3aietf%3awg%3aoauth%3a2.0%3aoob&response_type=code&scope=email%20https%3a%2f%2fwww.googleapis.com%2fauth%2fdocs.test%20https%3a%2f%2fwww.googleapis.com%2fauth%2fdrive%20https%3a%2f%2fwww.googleapis.com%2fauth%2fdrive.photos.readonly%20https%3a%2f%2fwww.googleapis.com%2fauth%2fpeopleapi.readonly\n",
            "\n",
            "Enter your authorization code:\n",
            "··········\n",
            "Mounted at /content/gdrive\n",
            "'6 Reviewer Details.docx'  'image processing'   toc.rar\n",
            "'6 Reviewer Details.gdoc'   other.jpg\t        Vikas.pdf\n",
            " blockchain\t\t    photon.jpg\t       'vikas_resume(2).pdf'\n",
            "'Colab Notebooks'\t    Project\t       'vikas resume.pdf'\n",
            " Datasets\t\t    signn.jpg\t       'Vikas Resume.pdf'\n",
            "'Getting started.pdf'\t    test1.gsheet        yolov3\n"
          ],
          "name": "stdout"
        }
      ]
    },
    {
      "cell_type": "code",
      "metadata": {
        "id": "hf3rLh_jRNxE",
        "colab_type": "code",
        "colab": {
          "base_uri": "https://localhost:8080/",
          "height": 1000
        },
        "outputId": "3395159c-f9b1-4cef-b05f-730ad5891c64"
      },
      "source": [
        "#install all the require package\n",
        "!pip install tensorflow==2.1.0rc1\n",
        "!pip install opencv-python==4.1.1.26\n",
        "!pip install lxml\n",
        "!pip install tqdm\n",
        "!pip install gast>=0.3.2\n",
        "!pip install imgaug==0.2.5"
      ],
      "execution_count": 9,
      "outputs": [
        {
          "output_type": "stream",
          "text": [
            "Collecting tensorflow==2.1.0rc1\n",
            "\u001b[?25l  Downloading https://files.pythonhosted.org/packages/d5/97/fbec42dfdb93a37ec971ca0996ff70b8eb5817789a9c1880aafd4684c9af/tensorflow-2.1.0rc1-cp36-cp36m-manylinux2010_x86_64.whl (421.8MB)\n",
            "\u001b[K     |████████████████████████████████| 421.8MB 36kB/s \n",
            "\u001b[?25hCollecting tensorflow-estimator<2.2.0,>=2.1.0rc0\n",
            "\u001b[?25l  Downloading https://files.pythonhosted.org/packages/18/90/b77c328a1304437ab1310b463e533fa7689f4bfc41549593056d812fab8e/tensorflow_estimator-2.1.0-py2.py3-none-any.whl (448kB)\n",
            "\u001b[K     |████████████████████████████████| 450kB 44.0MB/s \n",
            "\u001b[?25hRequirement already satisfied: wrapt>=1.11.1 in /usr/local/lib/python3.6/dist-packages (from tensorflow==2.1.0rc1) (1.12.1)\n",
            "Requirement already satisfied: keras-applications>=1.0.8 in /usr/local/lib/python3.6/dist-packages (from tensorflow==2.1.0rc1) (1.0.8)\n",
            "Collecting gast==0.2.2\n",
            "  Downloading https://files.pythonhosted.org/packages/4e/35/11749bf99b2d4e3cceb4d55ca22590b0d7c2c62b9de38ac4a4a7f4687421/gast-0.2.2.tar.gz\n",
            "Requirement already satisfied: keras-preprocessing>=1.1.0 in /usr/local/lib/python3.6/dist-packages (from tensorflow==2.1.0rc1) (1.1.2)\n",
            "Requirement already satisfied: absl-py>=0.7.0 in /usr/local/lib/python3.6/dist-packages (from tensorflow==2.1.0rc1) (0.9.0)\n",
            "Requirement already satisfied: opt-einsum>=2.3.2 in /usr/local/lib/python3.6/dist-packages (from tensorflow==2.1.0rc1) (3.3.0)\n",
            "Requirement already satisfied: grpcio>=1.8.6 in /usr/local/lib/python3.6/dist-packages (from tensorflow==2.1.0rc1) (1.30.0)\n",
            "Requirement already satisfied: numpy<2.0,>=1.16.0 in /usr/local/lib/python3.6/dist-packages (from tensorflow==2.1.0rc1) (1.18.5)\n",
            "Collecting tensorboard<2.2.0,>=2.1.0\n",
            "\u001b[?25l  Downloading https://files.pythonhosted.org/packages/d9/41/bbf49b61370e4f4d245d4c6051dfb6db80cec672605c91b1652ac8cc3d38/tensorboard-2.1.1-py3-none-any.whl (3.8MB)\n",
            "\u001b[K     |████████████████████████████████| 3.9MB 39.6MB/s \n",
            "\u001b[?25hRequirement already satisfied: wheel>=0.26; python_version >= \"3\" in /usr/local/lib/python3.6/dist-packages (from tensorflow==2.1.0rc1) (0.34.2)\n",
            "Requirement already satisfied: protobuf>=3.8.0 in /usr/local/lib/python3.6/dist-packages (from tensorflow==2.1.0rc1) (3.12.2)\n",
            "Requirement already satisfied: astor>=0.6.0 in /usr/local/lib/python3.6/dist-packages (from tensorflow==2.1.0rc1) (0.8.1)\n",
            "Requirement already satisfied: termcolor>=1.1.0 in /usr/local/lib/python3.6/dist-packages (from tensorflow==2.1.0rc1) (1.1.0)\n",
            "Requirement already satisfied: google-pasta>=0.1.6 in /usr/local/lib/python3.6/dist-packages (from tensorflow==2.1.0rc1) (0.2.0)\n",
            "Requirement already satisfied: six>=1.12.0 in /usr/local/lib/python3.6/dist-packages (from tensorflow==2.1.0rc1) (1.15.0)\n",
            "Requirement already satisfied: h5py in /usr/local/lib/python3.6/dist-packages (from keras-applications>=1.0.8->tensorflow==2.1.0rc1) (2.10.0)\n",
            "Requirement already satisfied: requests<3,>=2.21.0 in /usr/local/lib/python3.6/dist-packages (from tensorboard<2.2.0,>=2.1.0->tensorflow==2.1.0rc1) (2.23.0)\n",
            "Requirement already satisfied: setuptools>=41.0.0 in /usr/local/lib/python3.6/dist-packages (from tensorboard<2.2.0,>=2.1.0->tensorflow==2.1.0rc1) (49.1.0)\n",
            "Requirement already satisfied: google-auth<2,>=1.6.3 in /usr/local/lib/python3.6/dist-packages (from tensorboard<2.2.0,>=2.1.0->tensorflow==2.1.0rc1) (1.17.2)\n",
            "Requirement already satisfied: markdown>=2.6.8 in /usr/local/lib/python3.6/dist-packages (from tensorboard<2.2.0,>=2.1.0->tensorflow==2.1.0rc1) (3.2.2)\n",
            "Requirement already satisfied: google-auth-oauthlib<0.5,>=0.4.1 in /usr/local/lib/python3.6/dist-packages (from tensorboard<2.2.0,>=2.1.0->tensorflow==2.1.0rc1) (0.4.1)\n",
            "Requirement already satisfied: werkzeug>=0.11.15 in /usr/local/lib/python3.6/dist-packages (from tensorboard<2.2.0,>=2.1.0->tensorflow==2.1.0rc1) (1.0.1)\n",
            "Requirement already satisfied: certifi>=2017.4.17 in /usr/local/lib/python3.6/dist-packages (from requests<3,>=2.21.0->tensorboard<2.2.0,>=2.1.0->tensorflow==2.1.0rc1) (2020.6.20)\n",
            "Requirement already satisfied: idna<3,>=2.5 in /usr/local/lib/python3.6/dist-packages (from requests<3,>=2.21.0->tensorboard<2.2.0,>=2.1.0->tensorflow==2.1.0rc1) (2.10)\n",
            "Requirement already satisfied: chardet<4,>=3.0.2 in /usr/local/lib/python3.6/dist-packages (from requests<3,>=2.21.0->tensorboard<2.2.0,>=2.1.0->tensorflow==2.1.0rc1) (3.0.4)\n",
            "Requirement already satisfied: urllib3!=1.25.0,!=1.25.1,<1.26,>=1.21.1 in /usr/local/lib/python3.6/dist-packages (from requests<3,>=2.21.0->tensorboard<2.2.0,>=2.1.0->tensorflow==2.1.0rc1) (1.24.3)\n",
            "Requirement already satisfied: rsa<5,>=3.1.4; python_version >= \"3\" in /usr/local/lib/python3.6/dist-packages (from google-auth<2,>=1.6.3->tensorboard<2.2.0,>=2.1.0->tensorflow==2.1.0rc1) (4.6)\n",
            "Requirement already satisfied: pyasn1-modules>=0.2.1 in /usr/local/lib/python3.6/dist-packages (from google-auth<2,>=1.6.3->tensorboard<2.2.0,>=2.1.0->tensorflow==2.1.0rc1) (0.2.8)\n",
            "Requirement already satisfied: cachetools<5.0,>=2.0.0 in /usr/local/lib/python3.6/dist-packages (from google-auth<2,>=1.6.3->tensorboard<2.2.0,>=2.1.0->tensorflow==2.1.0rc1) (4.1.1)\n",
            "Requirement already satisfied: importlib-metadata; python_version < \"3.8\" in /usr/local/lib/python3.6/dist-packages (from markdown>=2.6.8->tensorboard<2.2.0,>=2.1.0->tensorflow==2.1.0rc1) (1.7.0)\n",
            "Requirement already satisfied: requests-oauthlib>=0.7.0 in /usr/local/lib/python3.6/dist-packages (from google-auth-oauthlib<0.5,>=0.4.1->tensorboard<2.2.0,>=2.1.0->tensorflow==2.1.0rc1) (1.3.0)\n",
            "Requirement already satisfied: pyasn1>=0.1.3 in /usr/local/lib/python3.6/dist-packages (from rsa<5,>=3.1.4; python_version >= \"3\"->google-auth<2,>=1.6.3->tensorboard<2.2.0,>=2.1.0->tensorflow==2.1.0rc1) (0.4.8)\n",
            "Requirement already satisfied: zipp>=0.5 in /usr/local/lib/python3.6/dist-packages (from importlib-metadata; python_version < \"3.8\"->markdown>=2.6.8->tensorboard<2.2.0,>=2.1.0->tensorflow==2.1.0rc1) (3.1.0)\n",
            "Requirement already satisfied: oauthlib>=3.0.0 in /usr/local/lib/python3.6/dist-packages (from requests-oauthlib>=0.7.0->google-auth-oauthlib<0.5,>=0.4.1->tensorboard<2.2.0,>=2.1.0->tensorflow==2.1.0rc1) (3.1.0)\n",
            "Building wheels for collected packages: gast\n",
            "  Building wheel for gast (setup.py) ... \u001b[?25l\u001b[?25hdone\n",
            "  Created wheel for gast: filename=gast-0.2.2-cp36-none-any.whl size=7540 sha256=67f2c9a72e1a064e5ca5232d96268b2d35d3292d9e749232af1aa5ab391f56fc\n",
            "  Stored in directory: /root/.cache/pip/wheels/5c/2e/7e/a1d4d4fcebe6c381f378ce7743a3ced3699feb89bcfbdadadd\n",
            "Successfully built gast\n",
            "\u001b[31mERROR: tensorflow-probability 0.10.0 has requirement gast>=0.3.2, but you'll have gast 0.2.2 which is incompatible.\u001b[0m\n",
            "Installing collected packages: tensorflow-estimator, gast, tensorboard, tensorflow\n",
            "  Found existing installation: tensorflow-estimator 2.2.0\n",
            "    Uninstalling tensorflow-estimator-2.2.0:\n",
            "      Successfully uninstalled tensorflow-estimator-2.2.0\n",
            "  Found existing installation: gast 0.3.3\n",
            "    Uninstalling gast-0.3.3:\n",
            "      Successfully uninstalled gast-0.3.3\n",
            "  Found existing installation: tensorboard 2.2.2\n",
            "    Uninstalling tensorboard-2.2.2:\n",
            "      Successfully uninstalled tensorboard-2.2.2\n",
            "  Found existing installation: tensorflow 2.2.0\n",
            "    Uninstalling tensorflow-2.2.0:\n",
            "      Successfully uninstalled tensorflow-2.2.0\n",
            "Successfully installed gast-0.2.2 tensorboard-2.1.1 tensorflow-2.1.0rc1 tensorflow-estimator-2.1.0\n",
            "Collecting opencv-python==4.1.1.26\n",
            "\u001b[?25l  Downloading https://files.pythonhosted.org/packages/5e/7e/bd5425f4dacb73367fddc71388a47c1ea570839197c2bcad86478e565186/opencv_python-4.1.1.26-cp36-cp36m-manylinux1_x86_64.whl (28.7MB)\n",
            "\u001b[K     |████████████████████████████████| 28.7MB 151kB/s \n",
            "\u001b[?25hRequirement already satisfied: numpy>=1.11.3 in /usr/local/lib/python3.6/dist-packages (from opencv-python==4.1.1.26) (1.18.5)\n",
            "\u001b[31mERROR: albumentations 0.1.12 has requirement imgaug<0.2.7,>=0.2.5, but you'll have imgaug 0.2.9 which is incompatible.\u001b[0m\n",
            "Installing collected packages: opencv-python\n",
            "  Found existing installation: opencv-python 4.1.2.30\n",
            "    Uninstalling opencv-python-4.1.2.30:\n",
            "      Successfully uninstalled opencv-python-4.1.2.30\n",
            "Successfully installed opencv-python-4.1.1.26\n",
            "Requirement already satisfied: lxml in /usr/local/lib/python3.6/dist-packages (4.2.6)\n",
            "Requirement already satisfied: tqdm in /usr/local/lib/python3.6/dist-packages (4.41.1)\n"
          ],
          "name": "stdout"
        }
      ]
    },
    {
      "cell_type": "code",
      "metadata": {
        "id": "1tZSew1bXZKK",
        "colab_type": "code",
        "colab": {
          "base_uri": "https://localhost:8080/",
          "height": 102
        },
        "outputId": "abb8356f-8e1c-46ac-b6c9-48afb1da0ba8"
      },
      "source": [
        "!git clone https://github.com/zzh8829/yolov3-tf2"
      ],
      "execution_count": 33,
      "outputs": [
        {
          "output_type": "stream",
          "text": [
            "Cloning into 'yolov3-tf2'...\n",
            "remote: Enumerating objects: 380, done.\u001b[K\n",
            "remote: Total 380 (delta 0), reused 0 (delta 0), pack-reused 380\u001b[K\n",
            "Receiving objects: 100% (380/380), 4.22 MiB | 26.67 MiB/s, done.\n",
            "Resolving deltas: 100% (221/221), done.\n"
          ],
          "name": "stdout"
        }
      ]
    },
    {
      "cell_type": "code",
      "metadata": {
        "id": "2bfYu9Q4dYl6",
        "colab_type": "code",
        "colab": {}
      },
      "source": [
        "#change the value of class open covnvert.py\n",
        "#flags.DEFINE_integer('num_classes', 80, 'number of classes in the model')\n",
        "#The abvoe line show 80 make your custom no class\n"
      ],
      "execution_count": 49,
      "outputs": []
    },
    {
      "cell_type": "code",
      "metadata": {
        "id": "5LzhCUvchkVM",
        "colab_type": "code",
        "colab": {
          "base_uri": "https://localhost:8080/",
          "height": 1000
        },
        "outputId": "1767b299-6e4a-485b-f021-517a801abfcf"
      },
      "source": [
        "# yolov3\n",
        "#wget https://pjreddie.com/media/files/yolov3.weights -O data/yolov3.weights\n",
        "#yolov3_training_last.weights in place give ur custom weight get by trainig\n",
        "!python ./yolov3-tf2/convert.py --weights /mydrive/yolov3/yolov3_training_last.weights --output /mydrive/yolov3/checkpoints/yolov3.tf\n",
        "\n",
        "# yolov3-tiny\n",
        "#wget https://pjreddie.com/media/files/yolov3-tiny.weights -O data/yolov3-tiny.weights\n",
        "#!python /yolov3-tf2/convert.py --weights ./data/yolov3-tiny.weights --output ./checkpoints/yolov3-tiny.tf --tiny"
      ],
      "execution_count": 62,
      "outputs": [
        {
          "output_type": "stream",
          "text": [
            "2020-07-27 04:36:39.038025: W tensorflow/stream_executor/platform/default/dso_loader.cc:55] Could not load dynamic library 'libnvinfer.so.6'; dlerror: libnvinfer.so.6: cannot open shared object file: No such file or directory; LD_LIBRARY_PATH: /usr/local/nvidia/lib:/usr/local/nvidia/lib64\n",
            "2020-07-27 04:36:39.038143: W tensorflow/stream_executor/platform/default/dso_loader.cc:55] Could not load dynamic library 'libnvinfer_plugin.so.6'; dlerror: libnvinfer_plugin.so.6: cannot open shared object file: No such file or directory; LD_LIBRARY_PATH: /usr/local/nvidia/lib:/usr/local/nvidia/lib64\n",
            "2020-07-27 04:36:39.038163: W tensorflow/compiler/tf2tensorrt/utils/py_utils.cc:30] Cannot dlopen some TensorRT libraries. If you would like to use Nvidia GPU with TensorRT, please make sure the missing libraries mentioned above are installed properly.\n",
            "2020-07-27 04:36:40.084127: I tensorflow/stream_executor/platform/default/dso_loader.cc:44] Successfully opened dynamic library libcuda.so.1\n",
            "2020-07-27 04:36:40.087145: E tensorflow/stream_executor/cuda/cuda_driver.cc:351] failed call to cuInit: CUDA_ERROR_NO_DEVICE: no CUDA-capable device is detected\n",
            "2020-07-27 04:36:40.087189: I tensorflow/stream_executor/cuda/cuda_diagnostics.cc:156] kernel driver does not appear to be running on this host (b0d420a056b5): /proc/driver/nvidia/version does not exist\n",
            "2020-07-27 04:36:40.103646: I tensorflow/core/platform/cpu_feature_guard.cc:142] Your CPU supports instructions that this TensorFlow binary was not compiled to use: AVX2 FMA\n",
            "2020-07-27 04:36:40.109350: I tensorflow/core/platform/profile_utils/cpu_utils.cc:94] CPU Frequency: 2200000000 Hz\n",
            "2020-07-27 04:36:40.109602: I tensorflow/compiler/xla/service/service.cc:168] XLA service 0x1348840 initialized for platform Host (this does not guarantee that XLA will be used). Devices:\n",
            "2020-07-27 04:36:40.109637: I tensorflow/compiler/xla/service/service.cc:176]   StreamExecutor device (0): Host, Default Version\n",
            "Model: \"yolov3\"\n",
            "__________________________________________________________________________________________________\n",
            "Layer (type)                    Output Shape         Param #     Connected to                     \n",
            "==================================================================================================\n",
            "input (InputLayer)              [(None, None, None,  0                                            \n",
            "__________________________________________________________________________________________________\n",
            "yolo_darknet (Model)            ((None, None, None,  40620640    input[0][0]                      \n",
            "__________________________________________________________________________________________________\n",
            "yolo_conv_0 (Model)             (None, None, None, 5 11024384    yolo_darknet[1][2]               \n",
            "__________________________________________________________________________________________________\n",
            "yolo_conv_1 (Model)             (None, None, None, 2 2957312     yolo_conv_0[1][0]                \n",
            "                                                                 yolo_darknet[1][1]               \n",
            "__________________________________________________________________________________________________\n",
            "yolo_conv_2 (Model)             (None, None, None, 1 741376      yolo_conv_1[1][0]                \n",
            "                                                                 yolo_darknet[1][0]               \n",
            "__________________________________________________________________________________________________\n",
            "yolo_output_0 (Model)           (None, None, None, 3 4741138     yolo_conv_0[1][0]                \n",
            "__________________________________________________________________________________________________\n",
            "yolo_output_1 (Model)           (None, None, None, 3 1190930     yolo_conv_1[1][0]                \n",
            "__________________________________________________________________________________________________\n",
            "yolo_output_2 (Model)           (None, None, None, 3 300562      yolo_conv_2[1][0]                \n",
            "__________________________________________________________________________________________________\n",
            "yolo_boxes_0 (Lambda)           ((None, None, None,  0           yolo_output_0[1][0]              \n",
            "__________________________________________________________________________________________________\n",
            "yolo_boxes_1 (Lambda)           ((None, None, None,  0           yolo_output_1[1][0]              \n",
            "__________________________________________________________________________________________________\n",
            "yolo_boxes_2 (Lambda)           ((None, None, None,  0           yolo_output_2[1][0]              \n",
            "__________________________________________________________________________________________________\n",
            "yolo_nms (Lambda)               ((None, 100, 4), (No 0           yolo_boxes_0[0][0]               \n",
            "                                                                 yolo_boxes_0[0][1]               \n",
            "                                                                 yolo_boxes_0[0][2]               \n",
            "                                                                 yolo_boxes_1[0][0]               \n",
            "                                                                 yolo_boxes_1[0][1]               \n",
            "                                                                 yolo_boxes_1[0][2]               \n",
            "                                                                 yolo_boxes_2[0][0]               \n",
            "                                                                 yolo_boxes_2[0][1]               \n",
            "                                                                 yolo_boxes_2[0][2]               \n",
            "==================================================================================================\n",
            "Total params: 61,576,342\n",
            "Trainable params: 61,523,734\n",
            "Non-trainable params: 52,608\n",
            "__________________________________________________________________________________________________\n",
            "I0727 04:36:45.864930 140158006589312 convert.py:24] model created\n",
            "I0727 04:36:45.882580 140158006589312 utils.py:45] yolo_darknet/conv2d bn\n",
            "I0727 04:36:45.885418 140158006589312 utils.py:45] yolo_darknet/conv2d_1 bn\n",
            "I0727 04:36:45.889483 140158006589312 utils.py:45] yolo_darknet/conv2d_2 bn\n",
            "I0727 04:36:45.891837 140158006589312 utils.py:45] yolo_darknet/conv2d_3 bn\n",
            "I0727 04:36:45.894325 140158006589312 utils.py:45] yolo_darknet/conv2d_4 bn\n",
            "I0727 04:36:45.897325 140158006589312 utils.py:45] yolo_darknet/conv2d_5 bn\n",
            "I0727 04:36:45.899554 140158006589312 utils.py:45] yolo_darknet/conv2d_6 bn\n",
            "I0727 04:36:45.902540 140158006589312 utils.py:45] yolo_darknet/conv2d_7 bn\n",
            "I0727 04:36:45.904846 140158006589312 utils.py:45] yolo_darknet/conv2d_8 bn\n",
            "I0727 04:36:45.907625 140158006589312 utils.py:45] yolo_darknet/conv2d_9 bn\n",
            "I0727 04:36:45.913404 140158006589312 utils.py:45] yolo_darknet/conv2d_10 bn\n",
            "I0727 04:36:45.915982 140158006589312 utils.py:45] yolo_darknet/conv2d_11 bn\n",
            "I0727 04:36:45.920738 140158006589312 utils.py:45] yolo_darknet/conv2d_12 bn\n",
            "I0727 04:36:45.923283 140158006589312 utils.py:45] yolo_darknet/conv2d_13 bn\n",
            "I0727 04:36:45.928205 140158006589312 utils.py:45] yolo_darknet/conv2d_14 bn\n",
            "I0727 04:36:45.930765 140158006589312 utils.py:45] yolo_darknet/conv2d_15 bn\n",
            "I0727 04:36:45.935407 140158006589312 utils.py:45] yolo_darknet/conv2d_16 bn\n",
            "I0727 04:36:45.937920 140158006589312 utils.py:45] yolo_darknet/conv2d_17 bn\n",
            "I0727 04:36:45.942456 140158006589312 utils.py:45] yolo_darknet/conv2d_18 bn\n",
            "I0727 04:36:45.944982 140158006589312 utils.py:45] yolo_darknet/conv2d_19 bn\n",
            "I0727 04:36:45.949599 140158006589312 utils.py:45] yolo_darknet/conv2d_20 bn\n",
            "I0727 04:36:45.952094 140158006589312 utils.py:45] yolo_darknet/conv2d_21 bn\n",
            "I0727 04:36:45.956946 140158006589312 utils.py:45] yolo_darknet/conv2d_22 bn\n",
            "I0727 04:36:45.959709 140158006589312 utils.py:45] yolo_darknet/conv2d_23 bn\n",
            "I0727 04:36:45.964624 140158006589312 utils.py:45] yolo_darknet/conv2d_24 bn\n",
            "I0727 04:36:45.967287 140158006589312 utils.py:45] yolo_darknet/conv2d_25 bn\n",
            "I0727 04:36:45.972194 140158006589312 utils.py:45] yolo_darknet/conv2d_26 bn\n",
            "I0727 04:36:45.986439 140158006589312 utils.py:45] yolo_darknet/conv2d_27 bn\n",
            "I0727 04:36:45.990582 140158006589312 utils.py:45] yolo_darknet/conv2d_28 bn\n",
            "I0727 04:36:46.005039 140158006589312 utils.py:45] yolo_darknet/conv2d_29 bn\n",
            "I0727 04:36:46.008952 140158006589312 utils.py:45] yolo_darknet/conv2d_30 bn\n",
            "I0727 04:36:46.023495 140158006589312 utils.py:45] yolo_darknet/conv2d_31 bn\n",
            "I0727 04:36:46.027691 140158006589312 utils.py:45] yolo_darknet/conv2d_32 bn\n",
            "I0727 04:36:46.041679 140158006589312 utils.py:45] yolo_darknet/conv2d_33 bn\n",
            "I0727 04:36:46.045712 140158006589312 utils.py:45] yolo_darknet/conv2d_34 bn\n",
            "I0727 04:36:46.059228 140158006589312 utils.py:45] yolo_darknet/conv2d_35 bn\n",
            "I0727 04:36:46.063101 140158006589312 utils.py:45] yolo_darknet/conv2d_36 bn\n",
            "I0727 04:36:46.076389 140158006589312 utils.py:45] yolo_darknet/conv2d_37 bn\n",
            "I0727 04:36:46.080103 140158006589312 utils.py:45] yolo_darknet/conv2d_38 bn\n",
            "I0727 04:36:46.092866 140158006589312 utils.py:45] yolo_darknet/conv2d_39 bn\n",
            "I0727 04:36:46.096681 140158006589312 utils.py:45] yolo_darknet/conv2d_40 bn\n",
            "I0727 04:36:46.110701 140158006589312 utils.py:45] yolo_darknet/conv2d_41 bn\n",
            "I0727 04:36:46.116067 140158006589312 utils.py:45] yolo_darknet/conv2d_42 bn\n",
            "I0727 04:36:46.134791 140158006589312 utils.py:45] yolo_darknet/conv2d_43 bn\n",
            "I0727 04:36:46.206239 140158006589312 utils.py:45] yolo_darknet/conv2d_44 bn\n",
            "I0727 04:36:46.215853 140158006589312 utils.py:45] yolo_darknet/conv2d_45 bn\n",
            "I0727 04:36:46.286980 140158006589312 utils.py:45] yolo_darknet/conv2d_46 bn\n",
            "I0727 04:36:46.298662 140158006589312 utils.py:45] yolo_darknet/conv2d_47 bn\n",
            "I0727 04:36:46.372254 140158006589312 utils.py:45] yolo_darknet/conv2d_48 bn\n",
            "I0727 04:36:46.386878 140158006589312 utils.py:45] yolo_darknet/conv2d_49 bn\n",
            "I0727 04:36:46.457552 140158006589312 utils.py:45] yolo_darknet/conv2d_50 bn\n",
            "I0727 04:36:46.467623 140158006589312 utils.py:45] yolo_darknet/conv2d_51 bn\n",
            "I0727 04:36:46.543643 140158006589312 utils.py:45] yolo_conv_0/conv2d_52 bn\n",
            "I0727 04:36:46.551849 140158006589312 utils.py:45] yolo_conv_0/conv2d_53 bn\n",
            "I0727 04:36:46.623103 140158006589312 utils.py:45] yolo_conv_0/conv2d_54 bn\n",
            "I0727 04:36:46.632045 140158006589312 utils.py:45] yolo_conv_0/conv2d_55 bn\n",
            "I0727 04:36:46.702715 140158006589312 utils.py:45] yolo_conv_0/conv2d_56 bn\n",
            "I0727 04:36:46.711203 140158006589312 utils.py:45] yolo_output_0/conv2d_57 bn\n",
            "I0727 04:36:46.783377 140158006589312 utils.py:45] yolo_output_0/conv2d_58 bias\n",
            "I0727 04:36:46.785121 140158006589312 utils.py:45] yolo_conv_1/conv2d_59 bn\n",
            "I0727 04:36:46.787772 140158006589312 utils.py:45] yolo_conv_1/conv2d_60 bn\n",
            "I0727 04:36:46.790847 140158006589312 utils.py:45] yolo_conv_1/conv2d_61 bn\n",
            "I0727 04:36:46.804143 140158006589312 utils.py:45] yolo_conv_1/conv2d_62 bn\n",
            "I0727 04:36:46.807120 140158006589312 utils.py:45] yolo_conv_1/conv2d_63 bn\n",
            "I0727 04:36:46.819831 140158006589312 utils.py:45] yolo_conv_1/conv2d_64 bn\n",
            "I0727 04:36:46.822728 140158006589312 utils.py:45] yolo_output_1/conv2d_65 bn\n",
            "I0727 04:36:46.839291 140158006589312 utils.py:45] yolo_output_1/conv2d_66 bias\n",
            "I0727 04:36:46.840801 140158006589312 utils.py:45] yolo_conv_2/conv2d_67 bn\n",
            "I0727 04:36:46.842436 140158006589312 utils.py:45] yolo_conv_2/conv2d_68 bn\n",
            "I0727 04:36:46.844241 140158006589312 utils.py:45] yolo_conv_2/conv2d_69 bn\n",
            "I0727 04:36:46.848126 140158006589312 utils.py:45] yolo_conv_2/conv2d_70 bn\n",
            "I0727 04:36:46.849714 140158006589312 utils.py:45] yolo_conv_2/conv2d_71 bn\n",
            "I0727 04:36:46.853487 140158006589312 utils.py:45] yolo_conv_2/conv2d_72 bn\n",
            "I0727 04:36:46.855116 140158006589312 utils.py:45] yolo_output_2/conv2d_73 bn\n",
            "I0727 04:36:46.858773 140158006589312 utils.py:45] yolo_output_2/conv2d_74 bias\n",
            "I0727 04:36:46.859745 140158006589312 convert.py:27] weights loaded\n",
            "I0727 04:36:48.009438 140158006589312 convert.py:31] sanity check passed\n",
            "I0727 04:36:49.533659 140158006589312 convert.py:34] weights saved\n"
          ],
          "name": "stdout"
        }
      ]
    },
    {
      "cell_type": "code",
      "metadata": {
        "id": "so5KMVO_kmYL",
        "colab_type": "code",
        "colab": {}
      },
      "source": [
        "#now your weight tf file save in directory /mydrive/yolov3/checkpoints/ you get the require file"
      ],
      "execution_count": null,
      "outputs": []
    }
  ]
}